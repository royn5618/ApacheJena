{
  "nbformat": 4,
  "nbformat_minor": 0,
  "metadata": {
    "colab": {
      "name": "Fake News.ipynb",
      "provenance": [],
      "collapsed_sections": [],
      "mount_file_id": "1K38ZOYiYkrnxiyEPw_JlJqFdkefvjJG_",
      "authorship_tag": "ABX9TyMYtUpWn/TMlZmr3IZe0X5O"
    },
    "kernelspec": {
      "name": "python3",
      "display_name": "Python 3"
    }
  },
  "cells": [
    {
      "cell_type": "code",
      "metadata": {
        "id": "vgKBIqAWNc8u",
        "outputId": "2625df76-9de6-47c8-e16a-5282a9edf195",
        "colab": {
          "base_uri": "https://localhost:8080/"
        }
      },
      "source": [
        "# Upload Kaggle json\n",
        "\n",
        "!pip install -q kaggle\n",
        "!pip install -q kaggle-cli\n",
        "!mkdir -p ~/.kaggle\n",
        "!cp \"/content/drive/My Drive/Kaggle/kaggle.json\" ~/.kaggle/\n",
        "!cat ~/.kaggle/kaggle.json \n",
        "!chmod 600 ~/.kaggle/kaggle.json\n",
        "i = False\n",
        "!kaggle competitions download -c fake-news -p dataset\n",
        "# !kaggle datasets download -c someone/some-data -p dataset"
      ],
      "execution_count": 37,
      "outputs": [
        {
          "output_type": "stream",
          "text": [
            "{\"username\":\"nabanitaroy\",\"key\":\"ca9305e9d6b82e6852331c98234e9ef7\"}Warning: Looks like you're using an outdated API Version, please consider updating (server 1.5.9 / client 1.5.4)\n",
            "train.csv.zip: Skipping, found more recently modified local copy (use --force to force download)\n",
            "test.csv.zip: Skipping, found more recently modified local copy (use --force to force download)\n",
            "submit.csv: Skipping, found more recently modified local copy (use --force to force download)\n"
          ],
          "name": "stdout"
        }
      ]
    },
    {
      "cell_type": "code",
      "metadata": {
        "id": "tKY4vr7kPola",
        "outputId": "9c391eed-2a60-4382-8eed-35c2f389517e",
        "colab": {
          "base_uri": "https://localhost:8080/"
        }
      },
      "source": [
        "!unzip /content/dataset/train.csv.zip"
      ],
      "execution_count": 38,
      "outputs": [
        {
          "output_type": "stream",
          "text": [
            "Archive:  /content/dataset/train.csv.zip\n",
            "replace train.csv? [y]es, [n]o, [A]ll, [N]one, [r]ename: n\n"
          ],
          "name": "stdout"
        }
      ]
    },
    {
      "cell_type": "code",
      "metadata": {
        "id": "C4TGREaQQRJY",
        "outputId": "99d58de9-262b-40b3-92f9-1a3af313b587",
        "colab": {
          "base_uri": "https://localhost:8080/"
        }
      },
      "source": [
        "!unzip /content/dataset/test.csv.zip"
      ],
      "execution_count": 39,
      "outputs": [
        {
          "output_type": "stream",
          "text": [
            "Archive:  /content/dataset/test.csv.zip\n",
            "replace test.csv? [y]es, [n]o, [A]ll, [N]one, [r]ename: n\n"
          ],
          "name": "stdout"
        }
      ]
    },
    {
      "cell_type": "code",
      "metadata": {
        "id": "CYBAcN3JOmkI",
        "outputId": "0aa8066c-72a3-4639-d40f-fc19a56edff7",
        "colab": {
          "base_uri": "https://localhost:8080/"
        }
      },
      "source": [
        "from time import time\n",
        "import pandas as pd\n",
        "import numpy as np\n",
        "import re\n",
        "import sys\n",
        "import csv\n",
        "csv.field_size_limit(sys.maxsize)\n",
        "\n",
        "import matplotlib.pyplot as plt\n",
        "from matplotlib import rcParams\n",
        "plt.rcParams['figure.figsize'] = [10,10]\n",
        "import seaborn as sns\n",
        "sns.set_theme(style=\"darkgrid\")\n",
        "\n",
        "import nltk\n",
        "nltk.download('punkt')\n",
        "nltk.download('averaged_perceptron_tagger')\n",
        "nltk.download('stopwords')\n",
        "from nltk.corpus import stopwords\n",
        "stopwords = nltk.corpus.stopwords.words('english')\n",
        "from nltk.tokenize import word_tokenize\n",
        "\n",
        "import itertools\n",
        "import datetime\n",
        "import time\n",
        "\n",
        "import pprint\n",
        "import warnings\n",
        "warnings.filterwarnings('ignore')\n",
        "\n",
        "from sklearn.feature_extraction.text import CountVectorizer\n",
        "from sklearn.naive_bayes import MultinomialNB\n",
        "from sklearn.feature_extraction.text import TfidfTransformer\n",
        "from sklearn.ensemble import RandomForestClassifier, ExtraTreesClassifier,AdaBoostClassifier\n",
        "from sklearn.tree import DecisionTreeClassifier\n",
        "\n",
        "from sklearn.metrics import confusion_matrix, precision_score, recall_score, f1_score, accuracy_score"
      ],
      "execution_count": 154,
      "outputs": [
        {
          "output_type": "stream",
          "text": [
            "[nltk_data] Downloading package punkt to /root/nltk_data...\n",
            "[nltk_data]   Package punkt is already up-to-date!\n",
            "[nltk_data] Downloading package averaged_perceptron_tagger to\n",
            "[nltk_data]     /root/nltk_data...\n",
            "[nltk_data]   Package averaged_perceptron_tagger is already up-to-\n",
            "[nltk_data]       date!\n",
            "[nltk_data] Downloading package stopwords to /root/nltk_data...\n",
            "[nltk_data]   Package stopwords is already up-to-date!\n"
          ],
          "name": "stdout"
        }
      ]
    },
    {
      "cell_type": "code",
      "metadata": {
        "id": "Thtim9SaOmpW",
        "outputId": "40bbf5f0-e770-4d1d-a928-2c43b32ccd7d",
        "colab": {
          "base_uri": "https://localhost:8080/",
          "height": 306
        }
      },
      "source": [
        "train_df = pd.read_csv('/content/train.csv', header=0)\n",
        "train_df.head()"
      ],
      "execution_count": 41,
      "outputs": [
        {
          "output_type": "execute_result",
          "data": {
            "text/html": [
              "<div>\n",
              "<style scoped>\n",
              "    .dataframe tbody tr th:only-of-type {\n",
              "        vertical-align: middle;\n",
              "    }\n",
              "\n",
              "    .dataframe tbody tr th {\n",
              "        vertical-align: top;\n",
              "    }\n",
              "\n",
              "    .dataframe thead th {\n",
              "        text-align: right;\n",
              "    }\n",
              "</style>\n",
              "<table border=\"1\" class=\"dataframe\">\n",
              "  <thead>\n",
              "    <tr style=\"text-align: right;\">\n",
              "      <th></th>\n",
              "      <th>id</th>\n",
              "      <th>title</th>\n",
              "      <th>author</th>\n",
              "      <th>text</th>\n",
              "      <th>label</th>\n",
              "    </tr>\n",
              "  </thead>\n",
              "  <tbody>\n",
              "    <tr>\n",
              "      <th>0</th>\n",
              "      <td>0</td>\n",
              "      <td>House Dem Aide: We Didn’t Even See Comey’s Let...</td>\n",
              "      <td>Darrell Lucus</td>\n",
              "      <td>House Dem Aide: We Didn’t Even See Comey’s Let...</td>\n",
              "      <td>1</td>\n",
              "    </tr>\n",
              "    <tr>\n",
              "      <th>1</th>\n",
              "      <td>1</td>\n",
              "      <td>FLYNN: Hillary Clinton, Big Woman on Campus - ...</td>\n",
              "      <td>Daniel J. Flynn</td>\n",
              "      <td>Ever get the feeling your life circles the rou...</td>\n",
              "      <td>0</td>\n",
              "    </tr>\n",
              "    <tr>\n",
              "      <th>2</th>\n",
              "      <td>2</td>\n",
              "      <td>Why the Truth Might Get You Fired</td>\n",
              "      <td>Consortiumnews.com</td>\n",
              "      <td>Why the Truth Might Get You Fired October 29, ...</td>\n",
              "      <td>1</td>\n",
              "    </tr>\n",
              "    <tr>\n",
              "      <th>3</th>\n",
              "      <td>3</td>\n",
              "      <td>15 Civilians Killed In Single US Airstrike Hav...</td>\n",
              "      <td>Jessica Purkiss</td>\n",
              "      <td>Videos 15 Civilians Killed In Single US Airstr...</td>\n",
              "      <td>1</td>\n",
              "    </tr>\n",
              "    <tr>\n",
              "      <th>4</th>\n",
              "      <td>4</td>\n",
              "      <td>Iranian woman jailed for fictional unpublished...</td>\n",
              "      <td>Howard Portnoy</td>\n",
              "      <td>Print \\nAn Iranian woman has been sentenced to...</td>\n",
              "      <td>1</td>\n",
              "    </tr>\n",
              "  </tbody>\n",
              "</table>\n",
              "</div>"
            ],
            "text/plain": [
              "   id  ... label\n",
              "0   0  ...     1\n",
              "1   1  ...     0\n",
              "2   2  ...     1\n",
              "3   3  ...     1\n",
              "4   4  ...     1\n",
              "\n",
              "[5 rows x 5 columns]"
            ]
          },
          "metadata": {
            "tags": []
          },
          "execution_count": 41
        }
      ]
    },
    {
      "cell_type": "code",
      "metadata": {
        "id": "z1sUrw1LQ0x4",
        "outputId": "0f0288b0-0912-48d8-a60b-4cffd0639e4e",
        "colab": {
          "base_uri": "https://localhost:8080/"
        }
      },
      "source": [
        "train_df.shape"
      ],
      "execution_count": 42,
      "outputs": [
        {
          "output_type": "execute_result",
          "data": {
            "text/plain": [
              "(20800, 5)"
            ]
          },
          "metadata": {
            "tags": []
          },
          "execution_count": 42
        }
      ]
    },
    {
      "cell_type": "code",
      "metadata": {
        "id": "9NTrHNS2Q00O",
        "outputId": "b310e2d5-2f55-4371-c911-3e997e1e8022",
        "colab": {
          "base_uri": "https://localhost:8080/"
        }
      },
      "source": [
        "train_df.info()"
      ],
      "execution_count": 43,
      "outputs": [
        {
          "output_type": "stream",
          "text": [
            "<class 'pandas.core.frame.DataFrame'>\n",
            "RangeIndex: 20800 entries, 0 to 20799\n",
            "Data columns (total 5 columns):\n",
            " #   Column  Non-Null Count  Dtype \n",
            "---  ------  --------------  ----- \n",
            " 0   id      20800 non-null  int64 \n",
            " 1   title   20242 non-null  object\n",
            " 2   author  18843 non-null  object\n",
            " 3   text    20761 non-null  object\n",
            " 4   label   20800 non-null  int64 \n",
            "dtypes: int64(2), object(3)\n",
            "memory usage: 812.6+ KB\n"
          ],
          "name": "stdout"
        }
      ]
    },
    {
      "cell_type": "code",
      "metadata": {
        "id": "_QkvVs-dYl90",
        "outputId": "c4a22333-3837-4323-ac71-09a4797f3cb0",
        "colab": {
          "base_uri": "https://localhost:8080/",
          "height": 629
        }
      },
      "source": [
        "sns.countplot(x='label', data=train_df, palette='Set3')"
      ],
      "execution_count": 44,
      "outputs": [
        {
          "output_type": "execute_result",
          "data": {
            "text/plain": [
              "<matplotlib.axes._subplots.AxesSubplot at 0x7f9246f270f0>"
            ]
          },
          "metadata": {
            "tags": []
          },
          "execution_count": 44
        },
        {
          "output_type": "display_data",
          "data": {
            "image/png": "[encoded data removed]",
            "text/plain": [
              "<Figure size 720x720 with 1 Axes>"
            ]
          },
          "metadata": {
            "tags": []
          }
        }
      ]
    },
    {
      "cell_type": "markdown",
      "metadata": {
        "id": "W8bN7VnbZWMt"
      },
      "source": [
        "Slightly imabalnced with a ratio of ~ 4:5"
      ]
    },
    {
      "cell_type": "code",
      "metadata": {
        "id": "mXQv-08CQ02b",
        "outputId": "73a932d4-bb87-4845-a7ab-36c1aae3c4dc",
        "colab": {
          "base_uri": "https://localhost:8080/",
          "height": 306
        }
      },
      "source": [
        "test_df = pd.read_csv('/content/test.csv', header=0)\n",
        "test_df.head()"
      ],
      "execution_count": 45,
      "outputs": [
        {
          "output_type": "execute_result",
          "data": {
            "text/html": [
              "<div>\n",
              "<style scoped>\n",
              "    .dataframe tbody tr th:only-of-type {\n",
              "        vertical-align: middle;\n",
              "    }\n",
              "\n",
              "    .dataframe tbody tr th {\n",
              "        vertical-align: top;\n",
              "    }\n",
              "\n",
              "    .dataframe thead th {\n",
              "        text-align: right;\n",
              "    }\n",
              "</style>\n",
              "<table border=\"1\" class=\"dataframe\">\n",
              "  <thead>\n",
              "    <tr style=\"text-align: right;\">\n",
              "      <th></th>\n",
              "      <th>id</th>\n",
              "      <th>title</th>\n",
              "      <th>author</th>\n",
              "      <th>text</th>\n",
              "    </tr>\n",
              "  </thead>\n",
              "  <tbody>\n",
              "    <tr>\n",
              "      <th>0</th>\n",
              "      <td>20800</td>\n",
              "      <td>Specter of Trump Loosens Tongues, if Not Purse...</td>\n",
              "      <td>David Streitfeld</td>\n",
              "      <td>PALO ALTO, Calif.  —   After years of scorning...</td>\n",
              "    </tr>\n",
              "    <tr>\n",
              "      <th>1</th>\n",
              "      <td>20801</td>\n",
              "      <td>Russian warships ready to strike terrorists ne...</td>\n",
              "      <td>NaN</td>\n",
              "      <td>Russian warships ready to strike terrorists ne...</td>\n",
              "    </tr>\n",
              "    <tr>\n",
              "      <th>2</th>\n",
              "      <td>20802</td>\n",
              "      <td>#NoDAPL: Native American Leaders Vow to Stay A...</td>\n",
              "      <td>Common Dreams</td>\n",
              "      <td>Videos #NoDAPL: Native American Leaders Vow to...</td>\n",
              "    </tr>\n",
              "    <tr>\n",
              "      <th>3</th>\n",
              "      <td>20803</td>\n",
              "      <td>Tim Tebow Will Attempt Another Comeback, This ...</td>\n",
              "      <td>Daniel Victor</td>\n",
              "      <td>If at first you don’t succeed, try a different...</td>\n",
              "    </tr>\n",
              "    <tr>\n",
              "      <th>4</th>\n",
              "      <td>20804</td>\n",
              "      <td>Keiser Report: Meme Wars (E995)</td>\n",
              "      <td>Truth Broadcast Network</td>\n",
              "      <td>42 mins ago 1 Views 0 Comments 0 Likes 'For th...</td>\n",
              "    </tr>\n",
              "  </tbody>\n",
              "</table>\n",
              "</div>"
            ],
            "text/plain": [
              "      id  ...                                               text\n",
              "0  20800  ...  PALO ALTO, Calif.  —   After years of scorning...\n",
              "1  20801  ...  Russian warships ready to strike terrorists ne...\n",
              "2  20802  ...  Videos #NoDAPL: Native American Leaders Vow to...\n",
              "3  20803  ...  If at first you don’t succeed, try a different...\n",
              "4  20804  ...  42 mins ago 1 Views 0 Comments 0 Likes 'For th...\n",
              "\n",
              "[5 rows x 4 columns]"
            ]
          },
          "metadata": {
            "tags": []
          },
          "execution_count": 45
        }
      ]
    },
    {
      "cell_type": "code",
      "metadata": {
        "id": "iwuokx6HQ081",
        "outputId": "3ae1b469-0b6d-439a-eb47-24e6124c7ffc",
        "colab": {
          "base_uri": "https://localhost:8080/"
        }
      },
      "source": [
        "test_df.shape"
      ],
      "execution_count": 46,
      "outputs": [
        {
          "output_type": "execute_result",
          "data": {
            "text/plain": [
              "(5200, 4)"
            ]
          },
          "metadata": {
            "tags": []
          },
          "execution_count": 46
        }
      ]
    },
    {
      "cell_type": "code",
      "metadata": {
        "id": "maqG-M4AQ1AY",
        "outputId": "28fabe77-8189-44ec-8143-98c1a6067cc3",
        "colab": {
          "base_uri": "https://localhost:8080/"
        }
      },
      "source": [
        "test_df.info()"
      ],
      "execution_count": 47,
      "outputs": [
        {
          "output_type": "stream",
          "text": [
            "<class 'pandas.core.frame.DataFrame'>\n",
            "RangeIndex: 5200 entries, 0 to 5199\n",
            "Data columns (total 4 columns):\n",
            " #   Column  Non-Null Count  Dtype \n",
            "---  ------  --------------  ----- \n",
            " 0   id      5200 non-null   int64 \n",
            " 1   title   5078 non-null   object\n",
            " 2   author  4697 non-null   object\n",
            " 3   text    5193 non-null   object\n",
            "dtypes: int64(1), object(3)\n",
            "memory usage: 162.6+ KB\n"
          ],
          "name": "stdout"
        }
      ]
    },
    {
      "cell_type": "markdown",
      "metadata": {
        "id": "bQ7UfAS0Ridk"
      },
      "source": [
        "## Drop all instances which have atleast one column missing"
      ]
    },
    {
      "cell_type": "code",
      "metadata": {
        "id": "J-nvKQr-RU-m"
      },
      "source": [
        "train_df.dropna(axis=0, how='any',inplace=True)\n",
        "test_df.dropna(axis=0, how='any',inplace=True)"
      ],
      "execution_count": 48,
      "outputs": []
    },
    {
      "cell_type": "code",
      "metadata": {
        "id": "T2y3gXOJRVEp",
        "outputId": "da1b3932-e141-4c9c-893b-e2522885efa1",
        "colab": {
          "base_uri": "https://localhost:8080/"
        }
      },
      "source": [
        "train_df.shape, test_df.shape"
      ],
      "execution_count": 49,
      "outputs": [
        {
          "output_type": "execute_result",
          "data": {
            "text/plain": [
              "((18285, 5), (4575, 4))"
            ]
          },
          "metadata": {
            "tags": []
          },
          "execution_count": 49
        }
      ]
    },
    {
      "cell_type": "code",
      "metadata": {
        "id": "ml_oUMHSOmsO",
        "outputId": "6956ada9-f4db-4f74-d3c5-08b43f2bbe4e",
        "colab": {
          "base_uri": "https://localhost:8080/"
        }
      },
      "source": [
        "train_df.info()"
      ],
      "execution_count": 50,
      "outputs": [
        {
          "output_type": "stream",
          "text": [
            "<class 'pandas.core.frame.DataFrame'>\n",
            "Int64Index: 18285 entries, 0 to 20799\n",
            "Data columns (total 5 columns):\n",
            " #   Column  Non-Null Count  Dtype \n",
            "---  ------  --------------  ----- \n",
            " 0   id      18285 non-null  int64 \n",
            " 1   title   18285 non-null  object\n",
            " 2   author  18285 non-null  object\n",
            " 3   text    18285 non-null  object\n",
            " 4   label   18285 non-null  int64 \n",
            "dtypes: int64(2), object(3)\n",
            "memory usage: 857.1+ KB\n"
          ],
          "name": "stdout"
        }
      ]
    },
    {
      "cell_type": "code",
      "metadata": {
        "id": "JQ4o1nn-Omut",
        "outputId": "f818f59d-2d6d-4d27-d811-5fb5f7e13635",
        "colab": {
          "base_uri": "https://localhost:8080/"
        }
      },
      "source": [
        "test_df.info()"
      ],
      "execution_count": 51,
      "outputs": [
        {
          "output_type": "stream",
          "text": [
            "<class 'pandas.core.frame.DataFrame'>\n",
            "Int64Index: 4575 entries, 0 to 5199\n",
            "Data columns (total 4 columns):\n",
            " #   Column  Non-Null Count  Dtype \n",
            "---  ------  --------------  ----- \n",
            " 0   id      4575 non-null   int64 \n",
            " 1   title   4575 non-null   object\n",
            " 2   author  4575 non-null   object\n",
            " 3   text    4575 non-null   object\n",
            "dtypes: int64(1), object(3)\n",
            "memory usage: 178.7+ KB\n"
          ],
          "name": "stdout"
        }
      ]
    },
    {
      "cell_type": "markdown",
      "metadata": {
        "id": "d4FEPO48UYGA"
      },
      "source": [
        "## Check length of Text"
      ]
    },
    {
      "cell_type": "code",
      "metadata": {
        "id": "AlOlRR-9OmxB"
      },
      "source": [
        "train_df['raw_text_length'] = train_df['text'].apply(lambda x: len(x))"
      ],
      "execution_count": 52,
      "outputs": []
    },
    {
      "cell_type": "code",
      "metadata": {
        "id": "RXlS0qyCOmzi",
        "outputId": "a8b946cf-7f47-49e7-931a-2c67cea87fc1",
        "colab": {
          "base_uri": "https://localhost:8080/",
          "height": 462
        }
      },
      "source": [
        "train_df.head()"
      ],
      "execution_count": 53,
      "outputs": [
        {
          "output_type": "execute_result",
          "data": {
            "text/html": [
              "<div>\n",
              "<style scoped>\n",
              "    .dataframe tbody tr th:only-of-type {\n",
              "        vertical-align: middle;\n",
              "    }\n",
              "\n",
              "    .dataframe tbody tr th {\n",
              "        vertical-align: top;\n",
              "    }\n",
              "\n",
              "    .dataframe thead th {\n",
              "        text-align: right;\n",
              "    }\n",
              "</style>\n",
              "<table border=\"1\" class=\"dataframe\">\n",
              "  <thead>\n",
              "    <tr style=\"text-align: right;\">\n",
              "      <th></th>\n",
              "      <th>id</th>\n",
              "      <th>title</th>\n",
              "      <th>author</th>\n",
              "      <th>text</th>\n",
              "      <th>label</th>\n",
              "      <th>raw_text_length</th>\n",
              "    </tr>\n",
              "  </thead>\n",
              "  <tbody>\n",
              "    <tr>\n",
              "      <th>0</th>\n",
              "      <td>0</td>\n",
              "      <td>House Dem Aide: We Didn’t Even See Comey’s Let...</td>\n",
              "      <td>Darrell Lucus</td>\n",
              "      <td>House Dem Aide: We Didn’t Even See Comey’s Let...</td>\n",
              "      <td>1</td>\n",
              "      <td>4930</td>\n",
              "    </tr>\n",
              "    <tr>\n",
              "      <th>1</th>\n",
              "      <td>1</td>\n",
              "      <td>FLYNN: Hillary Clinton, Big Woman on Campus - ...</td>\n",
              "      <td>Daniel J. Flynn</td>\n",
              "      <td>Ever get the feeling your life circles the rou...</td>\n",
              "      <td>0</td>\n",
              "      <td>4160</td>\n",
              "    </tr>\n",
              "    <tr>\n",
              "      <th>2</th>\n",
              "      <td>2</td>\n",
              "      <td>Why the Truth Might Get You Fired</td>\n",
              "      <td>Consortiumnews.com</td>\n",
              "      <td>Why the Truth Might Get You Fired October 29, ...</td>\n",
              "      <td>1</td>\n",
              "      <td>7692</td>\n",
              "    </tr>\n",
              "    <tr>\n",
              "      <th>3</th>\n",
              "      <td>3</td>\n",
              "      <td>15 Civilians Killed In Single US Airstrike Hav...</td>\n",
              "      <td>Jessica Purkiss</td>\n",
              "      <td>Videos 15 Civilians Killed In Single US Airstr...</td>\n",
              "      <td>1</td>\n",
              "      <td>3237</td>\n",
              "    </tr>\n",
              "    <tr>\n",
              "      <th>4</th>\n",
              "      <td>4</td>\n",
              "      <td>Iranian woman jailed for fictional unpublished...</td>\n",
              "      <td>Howard Portnoy</td>\n",
              "      <td>Print \\nAn Iranian woman has been sentenced to...</td>\n",
              "      <td>1</td>\n",
              "      <td>938</td>\n",
              "    </tr>\n",
              "  </tbody>\n",
              "</table>\n",
              "</div>"
            ],
            "text/plain": [
              "   id  ... raw_text_length\n",
              "0   0  ...            4930\n",
              "1   1  ...            4160\n",
              "2   2  ...            7692\n",
              "3   3  ...            3237\n",
              "4   4  ...             938\n",
              "\n",
              "[5 rows x 6 columns]"
            ]
          },
          "metadata": {
            "tags": []
          },
          "execution_count": 53
        }
      ]
    },
    {
      "cell_type": "code",
      "metadata": {
        "id": "jzaG8TvcUORf",
        "outputId": "6864fbe0-2870-4496-a572-a8eb083f24a3",
        "colab": {
          "base_uri": "https://localhost:8080/",
          "height": 591
        }
      },
      "source": [
        "sns.boxplot(y='raw_text_length', data=train_df, palette=\"Set3\")"
      ],
      "execution_count": 54,
      "outputs": [
        {
          "output_type": "execute_result",
          "data": {
            "text/plain": [
              "<matplotlib.axes._subplots.AxesSubplot at 0x7f928658bf28>"
            ]
          },
          "metadata": {
            "tags": []
          },
          "execution_count": 54
        },
        {
          "output_type": "display_data",
          "data": {
            "image/png": "[encoded data removed]",
            "text/plain": [
              "<Figure size 720x720 with 1 Axes>"
            ]
          },
          "metadata": {
            "tags": []
          }
        }
      ]
    },
    {
      "cell_type": "code",
      "metadata": {
        "id": "tigythhqUOT1",
        "outputId": "db87a680-e8da-4634-992e-b37d33201446",
        "colab": {
          "base_uri": "https://localhost:8080/",
          "height": 627
        }
      },
      "source": [
        "sns.boxplot(y='raw_text_length', x='label', data=train_df, palette=\"Set3\")"
      ],
      "execution_count": 55,
      "outputs": [
        {
          "output_type": "execute_result",
          "data": {
            "text/plain": [
              "<matplotlib.axes._subplots.AxesSubplot at 0x7f928660d128>"
            ]
          },
          "metadata": {
            "tags": []
          },
          "execution_count": 55
        },
        {
          "output_type": "display_data",
          "data": {
            "image/png": "[encoded data removed]",
            "text/plain": [
              "<Figure size 720x720 with 1 Axes>"
            ]
          },
          "metadata": {
            "tags": []
          }
        }
      ]
    },
    {
      "cell_type": "code",
      "metadata": {
        "id": "oUhrMFhcXpuN",
        "outputId": "83bae321-2bc6-429c-fc87-08f352901a52",
        "colab": {
          "base_uri": "https://localhost:8080/"
        }
      },
      "source": [
        "len(train_df['author'].unique())"
      ],
      "execution_count": 56,
      "outputs": [
        {
          "output_type": "execute_result",
          "data": {
            "text/plain": [
              "3838"
            ]
          },
          "metadata": {
            "tags": []
          },
          "execution_count": 56
        }
      ]
    },
    {
      "cell_type": "code",
      "metadata": {
        "id": "xI9W3oFZX2e9"
      },
      "source": [
        "gen_news_authors = set(list(train_df[train_df['label']==0]['author'].unique()))\n",
        "fake_news_authors = set(list(train_df[train_df['label']==1]['author'].unique()))"
      ],
      "execution_count": 57,
      "outputs": []
    },
    {
      "cell_type": "code",
      "metadata": {
        "id": "HjPrk7QNYHD3"
      },
      "source": [
        "overlapped_authors = gen_news_authors.intersection(fake_news_authors)"
      ],
      "execution_count": 58,
      "outputs": []
    },
    {
      "cell_type": "code",
      "metadata": {
        "id": "gTuu4HGdYY2P",
        "outputId": "ed18114a-77f2-4fd3-dc1b-0168e6823257",
        "colab": {
          "base_uri": "https://localhost:8080/"
        }
      },
      "source": [
        "len(gen_news_authors), len(fake_news_authors), len(overlapped_authors)"
      ],
      "execution_count": 59,
      "outputs": [
        {
          "output_type": "execute_result",
          "data": {
            "text/plain": [
              "(2225, 1618, 5)"
            ]
          },
          "metadata": {
            "tags": []
          },
          "execution_count": 59
        }
      ]
    },
    {
      "cell_type": "markdown",
      "metadata": {
        "id": "B7V_E1O7a6GB"
      },
      "source": [
        "## Text Cleaning\n",
        "\n",
        "1. Convert to lower-case\n",
        "2. Remove special characters\n",
        "3. Remove single letters\n",
        "4. Expand contractions\n",
        "5. Remove Stopwords"
      ]
    },
    {
      "cell_type": "code",
      "metadata": {
        "id": "UnkrXzQikXbR",
        "outputId": "3d5f5fe8-5061-463d-d66e-1b4bad66fdb5",
        "colab": {
          "base_uri": "https://localhost:8080/"
        }
      },
      "source": [
        "!pip install contractions"
      ],
      "execution_count": 60,
      "outputs": [
        {
          "output_type": "stream",
          "text": [
            "Requirement already satisfied: contractions in /usr/local/lib/python3.6/dist-packages (0.0.25)\n",
            "Requirement already satisfied: textsearch in /usr/local/lib/python3.6/dist-packages (from contractions) (0.0.17)\n",
            "Requirement already satisfied: pyahocorasick in /usr/local/lib/python3.6/dist-packages (from textsearch->contractions) (1.4.0)\n",
            "Requirement already satisfied: Unidecode in /usr/local/lib/python3.6/dist-packages (from textsearch->contractions) (1.1.1)\n"
          ],
          "name": "stdout"
        }
      ]
    },
    {
      "cell_type": "code",
      "metadata": {
        "id": "_s-_p1Jka2Hx",
        "outputId": "2e8aedea-f5b1-4d0a-a2f0-29bbf0e312e0",
        "colab": {
          "base_uri": "https://localhost:8080/"
        }
      },
      "source": [
        "import contractions\n",
        "print(contractions.fix(\"i've\"))\n",
        "print(contractions.fix(\"he's\"))"
      ],
      "execution_count": 61,
      "outputs": [
        {
          "output_type": "stream",
          "text": [
            "I have\n",
            "he is\n"
          ],
          "name": "stdout"
        }
      ]
    },
    {
      "cell_type": "code",
      "metadata": {
        "id": "PZN81fq8a2KY",
        "outputId": "d542c746-3959-489d-8a00-a98ff195d436",
        "colab": {
          "base_uri": "https://localhost:8080/",
          "height": 35
        }
      },
      "source": [
        "# re.sub(r'[^\\w\\d\\s\\']+', '', 'I have $500 and I love that! I said \"WHAT\" eğitmeye')\n",
        "re.sub(r'[^a-zA-Z\\d\\s\\']+', '', 'I have $500 and I love that! I said \"WHAT\" eğitmeye')"
      ],
      "execution_count": 62,
      "outputs": [
        {
          "output_type": "execute_result",
          "data": {
            "application/vnd.google.colaboratory.intrinsic+json": {
              "type": "string"
            },
            "text/plain": [
              "'I have 500 and I love that I said WHAT eitmeye'"
            ]
          },
          "metadata": {
            "tags": []
          },
          "execution_count": 62
        }
      ]
    },
    {
      "cell_type": "code",
      "metadata": {
        "id": "3-I0YKYoa2MZ",
        "outputId": "bff5b972-75c2-4826-d7cc-2003339f2472",
        "colab": {
          "base_uri": "https://localhost:8080/"
        }
      },
      "source": [
        "len('z'), 'Z'.lower()"
      ],
      "execution_count": 63,
      "outputs": [
        {
          "output_type": "execute_result",
          "data": {
            "text/plain": [
              "(1, 'z')"
            ]
          },
          "metadata": {
            "tags": []
          },
          "execution_count": 63
        }
      ]
    },
    {
      "cell_type": "code",
      "metadata": {
        "id": "cZ0vgCArkSMr"
      },
      "source": [
        "def preprocess_text(x):\n",
        "  cleaned_text = re.sub(r'[^a-zA-Z\\d\\s\\']+', '', x)\n",
        "  word_list = []\n",
        "  for each_word in cleaned_text.split(' '):\n",
        "    try:\n",
        "      word_list.append(contractions.fix(each_word).lower())\n",
        "    except: \n",
        "      print(x)\n",
        "  return \" \".join(word_list)"
      ],
      "execution_count": 64,
      "outputs": []
    },
    {
      "cell_type": "markdown",
      "metadata": {
        "id": "S46w8RTQl68C"
      },
      "source": [
        "## Got Error because of some sort of Turkish/Slavic language\n",
        "ABÇin ilişkilerinde ABD ve NATOnun etkisi yazan Manlio Dinucci Uluslararası bir forumda konuşan İtalyan coğrafyacı Manlio Dinucci ABDnin tüm dünyaya egemen olabilmek için sahip olduğu silahların analizini bireşimleştirdi Suriye Rusya ve Çinin bugün elde silah herkesin açıkça kabul ettiği bu üstünlüğü dünyanın bu tek kutuplu örgütlenişi tartışılır hale getirmesinden dolayı bu makale daha da önem kazanmaktadır\n"
      ]
    },
    {
      "cell_type": "code",
      "metadata": {
        "id": "UzyElDkakeoE"
      },
      "source": [
        "text_cols = ['text', 'title', 'author']"
      ],
      "execution_count": 65,
      "outputs": []
    },
    {
      "cell_type": "code",
      "metadata": {
        "id": "h7tWp8Awl6LZ",
        "outputId": "a15a2ebe-d202-4da1-d03e-3d348baba586",
        "colab": {
          "base_uri": "https://localhost:8080/"
        }
      },
      "source": [
        "%%time\n",
        "for col in text_cols:\n",
        "  print(\"Processing column: {}\".format(col))\n",
        "  train_df[col] = train_df[col].apply(lambda x: preprocess_text(x))\n",
        "  test_df[col] = test_df[col].apply(lambda x: preprocess_text(x)) "
      ],
      "execution_count": 66,
      "outputs": [
        {
          "output_type": "stream",
          "text": [
            "Processing column: text\n",
            "Processing column: title\n",
            "Processing column: author\n",
            "CPU times: user 54.2 s, sys: 88.2 ms, total: 54.3 s\n",
            "Wall time: 54.4 s\n"
          ],
          "name": "stdout"
        }
      ]
    },
    {
      "cell_type": "code",
      "metadata": {
        "id": "0MFupIrYikkB",
        "outputId": "07e3fe9c-b64f-4b2c-e9cf-379745742286",
        "colab": {
          "base_uri": "https://localhost:8080/"
        }
      },
      "source": [
        "%%time\n",
        "for col in text_cols:\n",
        "  print(\"Processing column: {}\".format(col))\n",
        "  train_df[col] = train_df[col].apply(word_tokenize)\n",
        "  test_df[col] = test_df[col].apply(word_tokenize)"
      ],
      "execution_count": 67,
      "outputs": [
        {
          "output_type": "stream",
          "text": [
            "Processing column: text\n",
            "Processing column: title\n",
            "Processing column: author\n",
            "CPU times: user 1min 17s, sys: 1.03 s, total: 1min 18s\n",
            "Wall time: 1min 18s\n"
          ],
          "name": "stdout"
        }
      ]
    },
    {
      "cell_type": "code",
      "metadata": {
        "id": "lpREdIrlikpT",
        "outputId": "08897634-84bd-47c0-a28b-a966811f75fc",
        "colab": {
          "base_uri": "https://localhost:8080/"
        }
      },
      "source": [
        "%%time\n",
        "for col in text_cols:\n",
        "  print(\"Processing column: {}\".format(col))\n",
        "  train_df[col] = train_df[col].apply(lambda x: [each_word for each_word in x if each_word not in stopwords])\n",
        "  test_df[col] = test_df[col].apply(lambda x: [each_word for each_word in x if each_word not in stopwords])"
      ],
      "execution_count": 71,
      "outputs": [
        {
          "output_type": "stream",
          "text": [
            "Processing column: text\n",
            "Processing column: title\n",
            "Processing column: author\n",
            "CPU times: user 30.6 s, sys: 57.5 ms, total: 30.6 s\n",
            "Wall time: 30.7 s\n"
          ],
          "name": "stdout"
        }
      ]
    },
    {
      "cell_type": "code",
      "metadata": {
        "id": "7Lb5tF7jiktZ",
        "outputId": "15d4d872-0d00-4609-c076-cb10f6107c54",
        "colab": {
          "base_uri": "https://localhost:8080/",
          "height": 410
        }
      },
      "source": [
        "train_df.head()"
      ],
      "execution_count": 73,
      "outputs": [
        {
          "output_type": "execute_result",
          "data": {
            "text/html": [
              "<div>\n",
              "<style scoped>\n",
              "    .dataframe tbody tr th:only-of-type {\n",
              "        vertical-align: middle;\n",
              "    }\n",
              "\n",
              "    .dataframe tbody tr th {\n",
              "        vertical-align: top;\n",
              "    }\n",
              "\n",
              "    .dataframe thead th {\n",
              "        text-align: right;\n",
              "    }\n",
              "</style>\n",
              "<table border=\"1\" class=\"dataframe\">\n",
              "  <thead>\n",
              "    <tr style=\"text-align: right;\">\n",
              "      <th></th>\n",
              "      <th>id</th>\n",
              "      <th>title</th>\n",
              "      <th>author</th>\n",
              "      <th>text</th>\n",
              "      <th>label</th>\n",
              "      <th>raw_text_length</th>\n",
              "    </tr>\n",
              "  </thead>\n",
              "  <tbody>\n",
              "    <tr>\n",
              "      <th>0</th>\n",
              "      <td>0</td>\n",
              "      <td>[house, dem, aide, even, see, comeys, letter, ...</td>\n",
              "      <td>[darrell, lucus]</td>\n",
              "      <td>[house, dem, aide, even, see, comeys, letter, ...</td>\n",
              "      <td>1</td>\n",
              "      <td>4930</td>\n",
              "    </tr>\n",
              "    <tr>\n",
              "      <th>1</th>\n",
              "      <td>1</td>\n",
              "      <td>[flynn, hillary, clinton, big, woman, campus, ...</td>\n",
              "      <td>[daniel, j, flynn]</td>\n",
              "      <td>[ever, get, feeling, life, circles, roundabout...</td>\n",
              "      <td>0</td>\n",
              "      <td>4160</td>\n",
              "    </tr>\n",
              "    <tr>\n",
              "      <th>2</th>\n",
              "      <td>2</td>\n",
              "      <td>[truth, might, get, fired]</td>\n",
              "      <td>[consortiumnewscom]</td>\n",
              "      <td>[truth, might, get, fired, october, 29, 2016, ...</td>\n",
              "      <td>1</td>\n",
              "      <td>7692</td>\n",
              "    </tr>\n",
              "    <tr>\n",
              "      <th>3</th>\n",
              "      <td>3</td>\n",
              "      <td>[15, civilians, killed, single, us, airstrike,...</td>\n",
              "      <td>[jessica, purkiss]</td>\n",
              "      <td>[videos, 15, civilians, killed, single, us, ai...</td>\n",
              "      <td>1</td>\n",
              "      <td>3237</td>\n",
              "    </tr>\n",
              "    <tr>\n",
              "      <th>4</th>\n",
              "      <td>4</td>\n",
              "      <td>[iranian, woman, jailed, fictional, unpublishe...</td>\n",
              "      <td>[howard, portnoy]</td>\n",
              "      <td>[print, iranian, woman, sentenced, six, years,...</td>\n",
              "      <td>1</td>\n",
              "      <td>938</td>\n",
              "    </tr>\n",
              "  </tbody>\n",
              "</table>\n",
              "</div>"
            ],
            "text/plain": [
              "   id  ... raw_text_length\n",
              "0   0  ...            4930\n",
              "1   1  ...            4160\n",
              "2   2  ...            7692\n",
              "3   3  ...            3237\n",
              "4   4  ...             938\n",
              "\n",
              "[5 rows x 6 columns]"
            ]
          },
          "metadata": {
            "tags": []
          },
          "execution_count": 73
        }
      ]
    },
    {
      "cell_type": "code",
      "metadata": {
        "id": "i4LYNGVVUOfJ"
      },
      "source": [
        "transformer = TfidfTransformer(smooth_idf=False)\n",
        "count_vectorizer = CountVectorizer(ngram_range=(1, 2))"
      ],
      "execution_count": 74,
      "outputs": []
    },
    {
      "cell_type": "code",
      "metadata": {
        "id": "K9OU3-RpUOhP"
      },
      "source": [
        "sentence = [\"an apple a day keeps the doctor away\"]\n",
        "v = CountVectorizer(ngram_range=(1,2))"
      ],
      "execution_count": 81,
      "outputs": []
    },
    {
      "cell_type": "code",
      "metadata": {
        "id": "uoKkcdBNUOkC",
        "outputId": "d42e4a86-9331-4402-f3d7-c99297291b41",
        "colab": {
          "base_uri": "https://localhost:8080/"
        }
      },
      "source": [
        "print(v.fit(sentence))"
      ],
      "execution_count": 84,
      "outputs": [
        {
          "output_type": "stream",
          "text": [
            "CountVectorizer(analyzer='word', binary=False, decode_error='strict',\n",
            "                dtype=<class 'numpy.int64'>, encoding='utf-8', input='content',\n",
            "                lowercase=True, max_df=1.0, max_features=None, min_df=1,\n",
            "                ngram_range=(1, 2), preprocessor=None, stop_words=None,\n",
            "                strip_accents=None, token_pattern='(?u)\\\\b\\\\w\\\\w+\\\\b',\n",
            "                tokenizer=None, vocabulary=None)\n"
          ],
          "name": "stdout"
        }
      ]
    },
    {
      "cell_type": "code",
      "metadata": {
        "id": "bKK-jKYiA5SR",
        "outputId": "a28c4b7a-dfd9-45ce-c217-23793bc26ee7",
        "colab": {
          "base_uri": "https://localhost:8080/"
        }
      },
      "source": [
        "v.get_feature_names()"
      ],
      "execution_count": 87,
      "outputs": [
        {
          "output_type": "execute_result",
          "data": {
            "text/plain": [
              "['an',\n",
              " 'an apple',\n",
              " 'apple',\n",
              " 'apple day',\n",
              " 'away',\n",
              " 'day',\n",
              " 'day keeps',\n",
              " 'doctor',\n",
              " 'doctor away',\n",
              " 'keeps',\n",
              " 'keeps the',\n",
              " 'the',\n",
              " 'the doctor']"
            ]
          },
          "metadata": {
            "tags": []
          },
          "execution_count": 87
        }
      ]
    },
    {
      "cell_type": "code",
      "metadata": {
        "id": "g_kb2D2hA5aO",
        "outputId": "c409a529-4cc0-476f-9e44-472d220bf8e2",
        "colab": {
          "base_uri": "https://localhost:8080/"
        }
      },
      "source": [
        "v.transform(sentence)"
      ],
      "execution_count": 93,
      "outputs": [
        {
          "output_type": "execute_result",
          "data": {
            "text/plain": [
              "<1x13 sparse matrix of type '<class 'numpy.int64'>'\n",
              "\twith 13 stored elements in Compressed Sparse Row format>"
            ]
          },
          "metadata": {
            "tags": []
          },
          "execution_count": 93
        }
      ]
    },
    {
      "cell_type": "code",
      "metadata": {
        "id": "8GaHC8WTA5cY",
        "outputId": "45fcef42-d291-4ab6-ff8d-1226baab565e",
        "colab": {
          "base_uri": "https://localhost:8080/"
        }
      },
      "source": [
        "v.vocabulary_"
      ],
      "execution_count": 89,
      "outputs": [
        {
          "output_type": "execute_result",
          "data": {
            "text/plain": [
              "{'an': 0,\n",
              " 'an apple': 1,\n",
              " 'apple': 2,\n",
              " 'apple day': 3,\n",
              " 'away': 4,\n",
              " 'day': 5,\n",
              " 'day keeps': 6,\n",
              " 'doctor': 7,\n",
              " 'doctor away': 8,\n",
              " 'keeps': 9,\n",
              " 'keeps the': 10,\n",
              " 'the': 11,\n",
              " 'the doctor': 12}"
            ]
          },
          "metadata": {
            "tags": []
          },
          "execution_count": 89
        }
      ]
    },
    {
      "cell_type": "code",
      "metadata": {
        "id": "iyZn98pUFtnE",
        "outputId": "fcc5c79b-4350-46b0-fa17-1cd2133495bb",
        "colab": {
          "base_uri": "https://localhost:8080/",
          "height": 410
        }
      },
      "source": [
        "train_df.head()"
      ],
      "execution_count": 94,
      "outputs": [
        {
          "output_type": "execute_result",
          "data": {
            "text/html": [
              "<div>\n",
              "<style scoped>\n",
              "    .dataframe tbody tr th:only-of-type {\n",
              "        vertical-align: middle;\n",
              "    }\n",
              "\n",
              "    .dataframe tbody tr th {\n",
              "        vertical-align: top;\n",
              "    }\n",
              "\n",
              "    .dataframe thead th {\n",
              "        text-align: right;\n",
              "    }\n",
              "</style>\n",
              "<table border=\"1\" class=\"dataframe\">\n",
              "  <thead>\n",
              "    <tr style=\"text-align: right;\">\n",
              "      <th></th>\n",
              "      <th>id</th>\n",
              "      <th>title</th>\n",
              "      <th>author</th>\n",
              "      <th>text</th>\n",
              "      <th>label</th>\n",
              "      <th>raw_text_length</th>\n",
              "    </tr>\n",
              "  </thead>\n",
              "  <tbody>\n",
              "    <tr>\n",
              "      <th>0</th>\n",
              "      <td>0</td>\n",
              "      <td>[house, dem, aide, even, see, comeys, letter, ...</td>\n",
              "      <td>[darrell, lucus]</td>\n",
              "      <td>[house, dem, aide, even, see, comeys, letter, ...</td>\n",
              "      <td>1</td>\n",
              "      <td>4930</td>\n",
              "    </tr>\n",
              "    <tr>\n",
              "      <th>1</th>\n",
              "      <td>1</td>\n",
              "      <td>[flynn, hillary, clinton, big, woman, campus, ...</td>\n",
              "      <td>[daniel, j, flynn]</td>\n",
              "      <td>[ever, get, feeling, life, circles, roundabout...</td>\n",
              "      <td>0</td>\n",
              "      <td>4160</td>\n",
              "    </tr>\n",
              "    <tr>\n",
              "      <th>2</th>\n",
              "      <td>2</td>\n",
              "      <td>[truth, might, get, fired]</td>\n",
              "      <td>[consortiumnewscom]</td>\n",
              "      <td>[truth, might, get, fired, october, 29, 2016, ...</td>\n",
              "      <td>1</td>\n",
              "      <td>7692</td>\n",
              "    </tr>\n",
              "    <tr>\n",
              "      <th>3</th>\n",
              "      <td>3</td>\n",
              "      <td>[15, civilians, killed, single, us, airstrike,...</td>\n",
              "      <td>[jessica, purkiss]</td>\n",
              "      <td>[videos, 15, civilians, killed, single, us, ai...</td>\n",
              "      <td>1</td>\n",
              "      <td>3237</td>\n",
              "    </tr>\n",
              "    <tr>\n",
              "      <th>4</th>\n",
              "      <td>4</td>\n",
              "      <td>[iranian, woman, jailed, fictional, unpublishe...</td>\n",
              "      <td>[howard, portnoy]</td>\n",
              "      <td>[print, iranian, woman, sentenced, six, years,...</td>\n",
              "      <td>1</td>\n",
              "      <td>938</td>\n",
              "    </tr>\n",
              "  </tbody>\n",
              "</table>\n",
              "</div>"
            ],
            "text/plain": [
              "   id  ... raw_text_length\n",
              "0   0  ...            4930\n",
              "1   1  ...            4160\n",
              "2   2  ...            7692\n",
              "3   3  ...            3237\n",
              "4   4  ...             938\n",
              "\n",
              "[5 rows x 6 columns]"
            ]
          },
          "metadata": {
            "tags": []
          },
          "execution_count": 94
        }
      ]
    },
    {
      "cell_type": "code",
      "metadata": {
        "id": "mTkYlZrrFp8f"
      },
      "source": [
        "train_df['text_joined'] = train_df['text'].apply(lambda x: \" \".join(x))\n",
        "test_df['text_joined'] = test_df['text'].apply(lambda x: \" \".join(x))"
      ],
      "execution_count": 95,
      "outputs": []
    },
    {
      "cell_type": "code",
      "metadata": {
        "id": "60Ee-vx0GH0q",
        "outputId": "3329ac1b-8034-432f-d86d-3cf94088537a",
        "colab": {
          "base_uri": "https://localhost:8080/",
          "height": 569
        }
      },
      "source": [
        "train_df.head()"
      ],
      "execution_count": 96,
      "outputs": [
        {
          "output_type": "execute_result",
          "data": {
            "text/html": [
              "<div>\n",
              "<style scoped>\n",
              "    .dataframe tbody tr th:only-of-type {\n",
              "        vertical-align: middle;\n",
              "    }\n",
              "\n",
              "    .dataframe tbody tr th {\n",
              "        vertical-align: top;\n",
              "    }\n",
              "\n",
              "    .dataframe thead th {\n",
              "        text-align: right;\n",
              "    }\n",
              "</style>\n",
              "<table border=\"1\" class=\"dataframe\">\n",
              "  <thead>\n",
              "    <tr style=\"text-align: right;\">\n",
              "      <th></th>\n",
              "      <th>id</th>\n",
              "      <th>title</th>\n",
              "      <th>author</th>\n",
              "      <th>text</th>\n",
              "      <th>label</th>\n",
              "      <th>raw_text_length</th>\n",
              "      <th>text_joined</th>\n",
              "    </tr>\n",
              "  </thead>\n",
              "  <tbody>\n",
              "    <tr>\n",
              "      <th>0</th>\n",
              "      <td>0</td>\n",
              "      <td>[house, dem, aide, even, see, comeys, letter, ...</td>\n",
              "      <td>[darrell, lucus]</td>\n",
              "      <td>[house, dem, aide, even, see, comeys, letter, ...</td>\n",
              "      <td>1</td>\n",
              "      <td>4930</td>\n",
              "      <td>house dem aide even see comeys letter jason ch...</td>\n",
              "    </tr>\n",
              "    <tr>\n",
              "      <th>1</th>\n",
              "      <td>1</td>\n",
              "      <td>[flynn, hillary, clinton, big, woman, campus, ...</td>\n",
              "      <td>[daniel, j, flynn]</td>\n",
              "      <td>[ever, get, feeling, life, circles, roundabout...</td>\n",
              "      <td>0</td>\n",
              "      <td>4160</td>\n",
              "      <td>ever get feeling life circles roundabout rathe...</td>\n",
              "    </tr>\n",
              "    <tr>\n",
              "      <th>2</th>\n",
              "      <td>2</td>\n",
              "      <td>[truth, might, get, fired]</td>\n",
              "      <td>[consortiumnewscom]</td>\n",
              "      <td>[truth, might, get, fired, october, 29, 2016, ...</td>\n",
              "      <td>1</td>\n",
              "      <td>7692</td>\n",
              "      <td>truth might get fired october 29 2016 tension ...</td>\n",
              "    </tr>\n",
              "    <tr>\n",
              "      <th>3</th>\n",
              "      <td>3</td>\n",
              "      <td>[15, civilians, killed, single, us, airstrike,...</td>\n",
              "      <td>[jessica, purkiss]</td>\n",
              "      <td>[videos, 15, civilians, killed, single, us, ai...</td>\n",
              "      <td>1</td>\n",
              "      <td>3237</td>\n",
              "      <td>videos 15 civilians killed single us airstrike...</td>\n",
              "    </tr>\n",
              "    <tr>\n",
              "      <th>4</th>\n",
              "      <td>4</td>\n",
              "      <td>[iranian, woman, jailed, fictional, unpublishe...</td>\n",
              "      <td>[howard, portnoy]</td>\n",
              "      <td>[print, iranian, woman, sentenced, six, years,...</td>\n",
              "      <td>1</td>\n",
              "      <td>938</td>\n",
              "      <td>print iranian woman sentenced six years prison...</td>\n",
              "    </tr>\n",
              "  </tbody>\n",
              "</table>\n",
              "</div>"
            ],
            "text/plain": [
              "   id  ...                                        text_joined\n",
              "0   0  ...  house dem aide even see comeys letter jason ch...\n",
              "1   1  ...  ever get feeling life circles roundabout rathe...\n",
              "2   2  ...  truth might get fired october 29 2016 tension ...\n",
              "3   3  ...  videos 15 civilians killed single us airstrike...\n",
              "4   4  ...  print iranian woman sentenced six years prison...\n",
              "\n",
              "[5 rows x 7 columns]"
            ]
          },
          "metadata": {
            "tags": []
          },
          "execution_count": 96
        }
      ]
    },
    {
      "cell_type": "code",
      "metadata": {
        "id": "N14mC1ECA5hM"
      },
      "source": [
        "tf_idf_transformer = TfidfTransformer(smooth_idf=False)\n",
        "count_vectorizer = CountVectorizer(ngram_range=(1, 2))\n",
        "\n",
        "# fit train data to the count vectorizer\n",
        "count_vect_train = count_vectorizer.fit_transform(train_df['text_joined'].values)\n",
        "\n",
        "#fit the ngrams count to the tfidf transformers\n",
        "tf_idf_train = tf_idf_transformer.fit_transform(count_vect_train)"
      ],
      "execution_count": 105,
      "outputs": []
    },
    {
      "cell_type": "code",
      "metadata": {
        "id": "AAPFzDKuHZu0",
        "outputId": "a101aa21-afa1-4dfc-f854-817625fa32a5",
        "colab": {
          "base_uri": "https://localhost:8080/"
        }
      },
      "source": [
        "count_vect_train"
      ],
      "execution_count": 106,
      "outputs": [
        {
          "output_type": "execute_result",
          "data": {
            "text/plain": [
              "<18285x4457643 sparse matrix of type '<class 'numpy.int64'>'\n",
              "\twith 12940845 stored elements in Compressed Sparse Row format>"
            ]
          },
          "metadata": {
            "tags": []
          },
          "execution_count": 106
        }
      ]
    },
    {
      "cell_type": "code",
      "metadata": {
        "id": "eTuLJvmLHauY",
        "outputId": "1320bd05-52c7-47f6-d3ed-b696c1e1610f",
        "colab": {
          "base_uri": "https://localhost:8080/"
        }
      },
      "source": [
        "tf_idf_train"
      ],
      "execution_count": 107,
      "outputs": [
        {
          "output_type": "execute_result",
          "data": {
            "text/plain": [
              "<18285x4457643 sparse matrix of type '<class 'numpy.float64'>'\n",
              "\twith 12940845 stored elements in Compressed Sparse Row format>"
            ]
          },
          "metadata": {
            "tags": []
          },
          "execution_count": 107
        }
      ]
    },
    {
      "cell_type": "code",
      "metadata": {
        "id": "Cx9CShWzHu4n"
      },
      "source": [
        "target = train_df['label'].values"
      ],
      "execution_count": 108,
      "outputs": []
    },
    {
      "cell_type": "markdown",
      "metadata": {
        "id": "p-jIz9LwUY1Y"
      },
      "source": [
        "# Train Test Split\n"
      ]
    },
    {
      "cell_type": "code",
      "metadata": {
        "id": "1sJ8fiELA5iY"
      },
      "source": [
        "from sklearn.model_selection import train_test_split\n",
        "\n",
        "#  If train-test size is not initialized, test_size will be set to 0.25 and train_set = 1-test_size\n",
        "\n",
        "X_train, X_test, y_train, y_test = train_test_split(tf_idf_train, target, random_state=0)"
      ],
      "execution_count": 109,
      "outputs": []
    },
    {
      "cell_type": "code",
      "metadata": {
        "id": "KynVMSoYO1dv"
      },
      "source": [
        "df_perf_metrics = pd.DataFrame(columns  =['Model', 'Accuracy_Training_Set', 'Accuracy_Test_Set', 'Precision', 'Recall', 'f1_score'])"
      ],
      "execution_count": 117,
      "outputs": []
    },
    {
      "cell_type": "markdown",
      "metadata": {
        "id": "ZQczEo5VUeGZ"
      },
      "source": [
        "# Logistic Regression"
      ]
    },
    {
      "cell_type": "code",
      "metadata": {
        "id": "wUPSisJ-JC96"
      },
      "source": [
        "from sklearn.linear_model import LogisticRegression\n",
        "\n",
        "log_reg_model = LogisticRegression(C=1e5)\n",
        "log_reg_model.fit(X_train, y_train)\n",
        "\n",
        "y_pred = log_reg_model.predict(X_test)"
      ],
      "execution_count": 120,
      "outputs": []
    },
    {
      "cell_type": "code",
      "metadata": {
        "id": "HZ7UAJRCSmHN"
      },
      "source": [
        "df_perf_metrics.loc[0] = [\n",
        "    \"Logistic Regression\",\n",
        "    log_reg_model.score(X_train, y_train),\n",
        "    log_reg_model.score(X_test, y_test),\n",
        "    precision_score(y_test, y_pred),\n",
        "    recall_score(y_test, y_pred),\n",
        "    f1_score(y_test, y_pred)\n",
        "]"
      ],
      "execution_count": 121,
      "outputs": []
    },
    {
      "cell_type": "code",
      "metadata": {
        "id": "UAOhbQ-HSdyt",
        "outputId": "6cd7bfb5-5825-4c52-8b90-58d13a43bbc0",
        "colab": {
          "base_uri": "https://localhost:8080/",
          "height": 117
        }
      },
      "source": [
        "df_perf_metrics"
      ],
      "execution_count": 122,
      "outputs": [
        {
          "output_type": "execute_result",
          "data": {
            "text/html": [
              "<div>\n",
              "<style scoped>\n",
              "    .dataframe tbody tr th:only-of-type {\n",
              "        vertical-align: middle;\n",
              "    }\n",
              "\n",
              "    .dataframe tbody tr th {\n",
              "        vertical-align: top;\n",
              "    }\n",
              "\n",
              "    .dataframe thead th {\n",
              "        text-align: right;\n",
              "    }\n",
              "</style>\n",
              "<table border=\"1\" class=\"dataframe\">\n",
              "  <thead>\n",
              "    <tr style=\"text-align: right;\">\n",
              "      <th></th>\n",
              "      <th>Model</th>\n",
              "      <th>Accuracy_Training_Set</th>\n",
              "      <th>Accuracy_Test_Set</th>\n",
              "      <th>Precision</th>\n",
              "      <th>Recall</th>\n",
              "      <th>f1_score</th>\n",
              "    </tr>\n",
              "  </thead>\n",
              "  <tbody>\n",
              "    <tr>\n",
              "      <th>0</th>\n",
              "      <td>Logistic Regression</td>\n",
              "      <td>0.999927</td>\n",
              "      <td>0.970691</td>\n",
              "      <td>0.969145</td>\n",
              "      <td>0.963298</td>\n",
              "      <td>0.966213</td>\n",
              "    </tr>\n",
              "  </tbody>\n",
              "</table>\n",
              "</div>"
            ],
            "text/plain": [
              "                 Model  Accuracy_Training_Set  ...    Recall  f1_score\n",
              "0  Logistic Regression               0.999927  ...  0.963298  0.966213\n",
              "\n",
              "[1 rows x 6 columns]"
            ]
          },
          "metadata": {
            "tags": []
          },
          "execution_count": 122
        }
      ]
    },
    {
      "cell_type": "code",
      "metadata": {
        "id": "Z9VmkfWcTghU"
      },
      "source": [
        "df_perf_metrics = pd.DataFrame(columns = ['Model', 'Accuracy_Training_Set', 'Accuracy_Test_Set', 'Precision', 'Recall', 'f1_score', 'Training Time (secs'])\n",
        "\n",
        "def get_perf_metrics(model, i):\n",
        "  model_name = type(model).__name__\n",
        "  start_time = time.time()\n",
        "  print(\"Training {} model...\".format(model_name))\n",
        "  model.fit(X_train, y_train)\n",
        "  print(\"Completed {} model training.\".format(model_name))\n",
        "  elapsed_time = time.time() - start_time\n",
        "  print(\"Time elapsed: {:.2f} s.\".format(elapsed_time))\n",
        "  y_pred = model.predict(X_test)\n",
        "  df_perf_metrics.loc[i] = [model_name,\n",
        "                            rfc.score(X_train, y_train),\n",
        "                            rfc.score(X_test, y_test),\n",
        "                            precision_score(y_test, y_pred),\n",
        "                            recall_score(y_test, y_pred),\n",
        "                            f1_score(y_test, y_pred),\n",
        "                            \"{:.2f}\".format(elapsed_time)]\n",
        "  print(\"Completed {} model's performance assessment.\".format(model_name))"
      ],
      "execution_count": 157,
      "outputs": []
    },
    {
      "cell_type": "code",
      "metadata": {
        "id": "X-Znnm07A5kX"
      },
      "source": [
        "models_list = [LogisticRegression(C=1e5),\n",
        "               RandomForestClassifier(n_estimators=5),\n",
        "               ExtraTreesClassifier(n_estimators=5,n_jobs=4),\n",
        "               AdaBoostClassifier(DecisionTreeClassifier(max_depth=3),n_estimators=5)]"
      ],
      "execution_count": 152,
      "outputs": []
    },
    {
      "cell_type": "code",
      "metadata": {
        "id": "owanJAEeHBrC",
        "outputId": "f30eb775-1f96-4f35-f692-20e8c0d116af",
        "colab": {
          "base_uri": "https://localhost:8080/"
        }
      },
      "source": [
        "%%time\n",
        "for n, model in enumerate(models_list):\n",
        "  get_perf_metrics(model, n)"
      ],
      "execution_count": 158,
      "outputs": [
        {
          "output_type": "stream",
          "text": [
            "Training LogisticRegression model...\n",
            "Completed LogisticRegression model training.\n",
            "Time elapsed: 101.30 s.\n",
            "Completed LogisticRegression model's performance assessment.\n",
            "Training RandomForestClassifier model...\n",
            "Completed RandomForestClassifier model training.\n",
            "Time elapsed: 34.60 s.\n",
            "Completed RandomForestClassifier model's performance assessment.\n",
            "Training ExtraTreesClassifier model...\n",
            "Completed ExtraTreesClassifier model training.\n",
            "Time elapsed: 51.03 s.\n",
            "Completed ExtraTreesClassifier model's performance assessment.\n",
            "Training AdaBoostClassifier model...\n",
            "Completed AdaBoostClassifier model training.\n",
            "Time elapsed: 312.74 s.\n",
            "Completed AdaBoostClassifier model's performance assessment.\n",
            "CPU times: user 9min 24s, sys: 39.1 s, total: 10min 3s\n",
            "Wall time: 8min 31s\n"
          ],
          "name": "stdout"
        }
      ]
    },
    {
      "cell_type": "code",
      "metadata": {
        "id": "vNuvvsKAbtAT",
        "outputId": "fccf8c29-15f2-4aa0-fdfd-9b1783b6112d",
        "colab": {
          "base_uri": "https://localhost:8080/",
          "height": 226
        }
      },
      "source": [
        "df_perf_metrics"
      ],
      "execution_count": 160,
      "outputs": [
        {
          "output_type": "execute_result",
          "data": {
            "text/html": [
              "<div>\n",
              "<style scoped>\n",
              "    .dataframe tbody tr th:only-of-type {\n",
              "        vertical-align: middle;\n",
              "    }\n",
              "\n",
              "    .dataframe tbody tr th {\n",
              "        vertical-align: top;\n",
              "    }\n",
              "\n",
              "    .dataframe thead th {\n",
              "        text-align: right;\n",
              "    }\n",
              "</style>\n",
              "<table border=\"1\" class=\"dataframe\">\n",
              "  <thead>\n",
              "    <tr style=\"text-align: right;\">\n",
              "      <th></th>\n",
              "      <th>Model</th>\n",
              "      <th>Accuracy_Training_Set</th>\n",
              "      <th>Accuracy_Test_Set</th>\n",
              "      <th>Precision</th>\n",
              "      <th>Recall</th>\n",
              "      <th>f1_score</th>\n",
              "      <th>Training Time (secs</th>\n",
              "    </tr>\n",
              "  </thead>\n",
              "  <tbody>\n",
              "    <tr>\n",
              "      <th>0</th>\n",
              "      <td>LogisticRegression</td>\n",
              "      <td>0.983665</td>\n",
              "      <td>0.820429</td>\n",
              "      <td>0.969145</td>\n",
              "      <td>0.963298</td>\n",
              "      <td>0.966213</td>\n",
              "      <td>101.30</td>\n",
              "    </tr>\n",
              "    <tr>\n",
              "      <th>1</th>\n",
              "      <td>RandomForestClassifier</td>\n",
              "      <td>0.983665</td>\n",
              "      <td>0.820429</td>\n",
              "      <td>0.821016</td>\n",
              "      <td>0.714932</td>\n",
              "      <td>0.764311</td>\n",
              "      <td>34.60</td>\n",
              "    </tr>\n",
              "    <tr>\n",
              "      <th>2</th>\n",
              "      <td>ExtraTreesClassifier</td>\n",
              "      <td>0.983665</td>\n",
              "      <td>0.820429</td>\n",
              "      <td>0.884362</td>\n",
              "      <td>0.742081</td>\n",
              "      <td>0.806998</td>\n",
              "      <td>51.03</td>\n",
              "    </tr>\n",
              "    <tr>\n",
              "      <th>3</th>\n",
              "      <td>AdaBoostClassifier</td>\n",
              "      <td>0.983665</td>\n",
              "      <td>0.820429</td>\n",
              "      <td>0.872727</td>\n",
              "      <td>0.892911</td>\n",
              "      <td>0.882704</td>\n",
              "      <td>312.74</td>\n",
              "    </tr>\n",
              "  </tbody>\n",
              "</table>\n",
              "</div>"
            ],
            "text/plain": [
              "                    Model  Accuracy_Training_Set  ...  f1_score  Training Time (secs\n",
              "0      LogisticRegression               0.983665  ...  0.966213               101.30\n",
              "1  RandomForestClassifier               0.983665  ...  0.764311                34.60\n",
              "2    ExtraTreesClassifier               0.983665  ...  0.806998                51.03\n",
              "3      AdaBoostClassifier               0.983665  ...  0.882704               312.74\n",
              "\n",
              "[4 rows x 7 columns]"
            ]
          },
          "metadata": {
            "tags": []
          },
          "execution_count": 160
        }
      ]
    },
    {
      "cell_type": "code",
      "metadata": {
        "id": "x3smbWP0btIf"
      },
      "source": [
        ""
      ],
      "execution_count": null,
      "outputs": []
    },
    {
      "cell_type": "code",
      "metadata": {
        "id": "HiMPkA-ObtN4"
      },
      "source": [
        ""
      ],
      "execution_count": null,
      "outputs": []
    },
    {
      "cell_type": "code",
      "metadata": {
        "id": "DrnVQr67HBwN"
      },
      "source": [
        ""
      ],
      "execution_count": 97,
      "outputs": []
    },
    {
      "cell_type": "code",
      "metadata": {
        "id": "nN0xDutyHBy2"
      },
      "source": [
        ""
      ],
      "execution_count": null,
      "outputs": []
    }
  ]
}